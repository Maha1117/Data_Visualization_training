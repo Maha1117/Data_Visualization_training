{
  "nbformat": 4,
  "nbformat_minor": 0,
  "metadata": {
    "colab": {
      "name": "2.5. Operators in Python.ipynb",
      "provenance": [],
      "collapsed_sections": []
    },
    "kernelspec": {
      "name": "python3",
      "display_name": "Python 3"
    }
  },
  "cells": [
    {
      "cell_type": "markdown",
      "metadata": {
        "id": "z8iVDs11-ogJ"
      },
      "source": [
        "Operators in Python:\n",
        "1. Arithmetic Operators\n",
        "2. Assignment Operators\n",
        "3. Comparison Operators\n",
        "4. Logical Operators\n",
        "5. Identity Operators\n",
        "6. Membership Operators"
      ]
    },
    {
      "cell_type": "markdown",
      "metadata": {
        "id": "5NTu_QYw_212"
      },
      "source": [
        "1. Arithmetic Operators"
      ]
    },
    {
      "cell_type": "code",
      "metadata": {
        "colab": {
          "base_uri": "https://localhost:8080/"
        },
        "id": "CXYtGkkZ59n1",
        "outputId": "ed373db5-6740-40fa-c477-d0f2f67fddc3"
      },
      "source": [
        "num_1 = 20\n",
        "num_2 = 10\n",
        "\n",
        "# addition\n",
        "sum = num_1 + num_2\n",
        "print('sum = ',sum)\n",
        "\n",
        "# subtraction\n",
        "diff = num_1 - num_2\n",
        "print('difference = ',diff)\n",
        "\n",
        "# multiplication\n",
        "pro = num_1 * num_2\n",
        "print('product = ',pro)\n",
        "\n",
        "# division\n",
        "quo = num_1 / num_2\n",
        "print('quotient = ',quo)\n",
        "\n",
        "# exponent\n",
        "exp = num_1**num_2   # 20^10\n",
        "print('exponent = ',exp)\n",
        "\n",
        "# modulus\n",
        "mod = num_1 % num_2\n",
        "print('reminder = ',mod)"
      ],
      "execution_count": null,
      "outputs": [
        {
          "output_type": "stream",
          "text": [
            "sum =  30\n",
            "difference =  10\n",
            "product =  200\n",
            "quotient =  2.0\n",
            "exponent =  10240000000000\n",
            "reminder =  0\n"
          ],
          "name": "stdout"
        }
      ]
    },
    {
      "cell_type": "markdown",
      "metadata": {
        "id": "E12rvExzBIh7"
      },
      "source": [
        "2. Assignment Operators"
      ]
    },
    {
      "cell_type": "markdown",
      "metadata": {
        "id": "K-LS4tHQBiPZ"
      },
      "source": [
        "+=\n",
        "\n",
        "-=\n",
        "\n",
        "*=\n",
        "\n",
        "**=\n",
        "\n",
        "/=\n",
        "\n",
        "%="
      ]
    },
    {
      "cell_type": "code",
      "metadata": {
        "colab": {
          "base_uri": "https://localhost:8080/"
        },
        "id": "YwWiUzaNBDaD",
        "outputId": "a187ca00-043d-466f-a074-f182ccc4496e"
      },
      "source": [
        "a = 5\n",
        "print(a)"
      ],
      "execution_count": null,
      "outputs": [
        {
          "output_type": "stream",
          "text": [
            "5\n"
          ],
          "name": "stdout"
        }
      ]
    },
    {
      "cell_type": "code",
      "metadata": {
        "colab": {
          "base_uri": "https://localhost:8080/"
        },
        "id": "LxJoSCRVBPrv",
        "outputId": "cdcc508a-8abf-476b-f952-a708de062360"
      },
      "source": [
        "a = 5\n",
        "a += 5   # a = a + 5\n",
        "print(a)"
      ],
      "execution_count": null,
      "outputs": [
        {
          "output_type": "stream",
          "text": [
            "10\n"
          ],
          "name": "stdout"
        }
      ]
    },
    {
      "cell_type": "code",
      "metadata": {
        "colab": {
          "base_uri": "https://localhost:8080/"
        },
        "id": "F5hy5OvoBY0t",
        "outputId": "c1b988e4-bee0-4faa-c76f-491cffc4ee0e"
      },
      "source": [
        "b = 5\n",
        "b -= 2   # b = b-2\n",
        "print(b)"
      ],
      "execution_count": null,
      "outputs": [
        {
          "output_type": "stream",
          "text": [
            "3\n"
          ],
          "name": "stdout"
        }
      ]
    },
    {
      "cell_type": "markdown",
      "metadata": {
        "id": "0B6StO-HBv1E"
      },
      "source": [
        "3. Comparison Operators"
      ]
    },
    {
      "cell_type": "code",
      "metadata": {
        "colab": {
          "base_uri": "https://localhost:8080/"
        },
        "id": "9L2aTaKUBftz",
        "outputId": "b70b186f-7cc5-4887-aa81-418e1e1cac59"
      },
      "source": [
        "a = 5\n",
        "b = 10\n",
        "\n",
        "print(a == b)   # equal to\n",
        "print(a != b)   # not equal to\n",
        "print(a > b)    # greater than\n",
        "print(a < b)\n",
        "print(a <= b)\n",
        "print(a >= b)  "
      ],
      "execution_count": null,
      "outputs": [
        {
          "output_type": "stream",
          "text": [
            "False\n",
            "True\n",
            "False\n",
            "True\n",
            "True\n",
            "False\n"
          ],
          "name": "stdout"
        }
      ]
    },
    {
      "cell_type": "markdown",
      "metadata": {
        "id": "5vG_Gp-DCc-u"
      },
      "source": [
        "4. Logical Operators"
      ]
    },
    {
      "cell_type": "markdown",
      "metadata": {
        "id": "0k1QjwN7Cfx5"
      },
      "source": [
        "and\n",
        "\n",
        "or\n",
        "\n",
        "not"
      ]
    },
    {
      "cell_type": "code",
      "metadata": {
        "colab": {
          "base_uri": "https://localhost:8080/"
        },
        "id": "XKVEPY3UCVqy",
        "outputId": "48152426-7541-4483-a272-85090c9c20f3"
      },
      "source": [
        "a = 10\n",
        "\n",
        "print( a>20 and a>5)\n",
        "print( a>20 or a>5)\n",
        "print( not( a>8 and a>5))"
      ],
      "execution_count": null,
      "outputs": [
        {
          "output_type": "stream",
          "text": [
            "False\n",
            "True\n",
            "False\n"
          ],
          "name": "stdout"
        }
      ]
    },
    {
      "cell_type": "markdown",
      "metadata": {
        "id": "xzOpIj7eDKrz"
      },
      "source": [
        "5. Identity Operator:\n",
        "\n",
        "is \n",
        "\n",
        "is not"
      ]
    },
    {
      "cell_type": "code",
      "metadata": {
        "colab": {
          "base_uri": "https://localhost:8080/"
        },
        "id": "005EmRZMDERy",
        "outputId": "7c75b240-62d6-4aaa-be75-51da8afc2795"
      },
      "source": [
        "x = 5\n",
        "y = 5\n",
        "\n",
        "print(x is y)"
      ],
      "execution_count": null,
      "outputs": [
        {
          "output_type": "stream",
          "text": [
            "True\n"
          ],
          "name": "stdout"
        }
      ]
    },
    {
      "cell_type": "code",
      "metadata": {
        "colab": {
          "base_uri": "https://localhost:8080/"
        },
        "id": "ZQy2V1ViDT5x",
        "outputId": "3782b1dc-8dda-4598-9d45-b3f9e859a6f2"
      },
      "source": [
        "x = 5\n",
        "y = 10\n",
        "\n",
        "print(x is y)"
      ],
      "execution_count": null,
      "outputs": [
        {
          "output_type": "stream",
          "text": [
            "False\n"
          ],
          "name": "stdout"
        }
      ]
    },
    {
      "cell_type": "code",
      "metadata": {
        "colab": {
          "base_uri": "https://localhost:8080/"
        },
        "id": "bSZFIncfDYVc",
        "outputId": "c301afff-7c5d-45e6-eac8-ed31719e8804"
      },
      "source": [
        "x = 5\n",
        "y = 5\n",
        "\n",
        "print(x is not y)"
      ],
      "execution_count": null,
      "outputs": [
        {
          "output_type": "stream",
          "text": [
            "False\n"
          ],
          "name": "stdout"
        }
      ]
    },
    {
      "cell_type": "code",
      "metadata": {
        "colab": {
          "base_uri": "https://localhost:8080/"
        },
        "id": "uVAX_AejDcsX",
        "outputId": "abbad84c-bc89-44e0-fff6-b21b7539743a"
      },
      "source": [
        "x = 5\n",
        "y = 10\n",
        "\n",
        "print(x is not y)"
      ],
      "execution_count": null,
      "outputs": [
        {
          "output_type": "stream",
          "text": [
            "True\n"
          ],
          "name": "stdout"
        }
      ]
    },
    {
      "cell_type": "markdown",
      "metadata": {
        "id": "mvIH9bSEDlSw"
      },
      "source": [
        "6. Membership Operator:\n",
        "\n",
        "in \n",
        "\n",
        "not in"
      ]
    },
    {
      "cell_type": "code",
      "metadata": {
        "colab": {
          "base_uri": "https://localhost:8080/"
        },
        "id": "IkUTVRTmDfic",
        "outputId": "afc0d8cd-4e9e-4516-e23e-569752a176cb"
      },
      "source": [
        "a = 5\n",
        "b =10\n",
        "\n",
        "c = [1,2,3,4,5]\n",
        "print( a in c)\n",
        "print( b in c)"
      ],
      "execution_count": null,
      "outputs": [
        {
          "output_type": "stream",
          "text": [
            "True\n",
            "False\n"
          ],
          "name": "stdout"
        }
      ]
    },
    {
      "cell_type": "code",
      "metadata": {
        "colab": {
          "base_uri": "https://localhost:8080/"
        },
        "id": "LOYpdrbnD4Fb",
        "outputId": "782c2ff9-cc82-4797-c9af-1020a7bf037d"
      },
      "source": [
        "a = 5\n",
        "b =10\n",
        "\n",
        "c = [1,2,3,4,5]\n",
        "print( a not in c)\n",
        "print( b not in c)"
      ],
      "execution_count": null,
      "outputs": [
        {
          "output_type": "stream",
          "text": [
            "False\n",
            "True\n"
          ],
          "name": "stdout"
        }
      ]
    },
    {
      "cell_type": "code",
      "metadata": {
        "id": "qkbtedVdEATX"
      },
      "source": [
        ""
      ],
      "execution_count": null,
      "outputs": []
    }
  ]
}