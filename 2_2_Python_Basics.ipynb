{
  "nbformat": 4,
  "nbformat_minor": 0,
  "metadata": {
    "colab": {
      "name": "2.2. Python Basics.ipynb",
      "provenance": [],
      "collapsed_sections": [
        "-WvGy_yEMZqy",
        "VoF-mwOrNd47",
        "TF5JGYWwOCZ9",
        "0Z9JChvaPpsm"
      ]
    },
    "kernelspec": {
      "name": "python3",
      "display_name": "Python 3"
    }
  },
  "cells": [
    {
      "cell_type": "markdown",
      "metadata": {
        "id": "Osmh3yTEEv9q"
      },
      "source": [
        "Programming Languages used for Machine Learning:\n",
        "\n",
        "\n",
        "1.   Python\n",
        "2.   R\n",
        "\n"
      ]
    },
    {
      "cell_type": "markdown",
      "metadata": {
        "id": "-WvGy_yEMZqy"
      },
      "source": [
        "#print function"
      ]
    },
    {
      "cell_type": "code",
      "metadata": {
        "id": "GtMDf70aAf6y",
        "colab": {
          "base_uri": "https://localhost:8080/"
        },
        "outputId": "2490e348-2413-4793-94fc-6b59a3d16b6d"
      },
      "source": [
        "print(\"Machine Learning\")"
      ],
      "execution_count": null,
      "outputs": [
        {
          "output_type": "stream",
          "text": [
            "Machine Learning\n"
          ],
          "name": "stdout"
        }
      ]
    },
    {
      "cell_type": "code",
      "metadata": {
        "colab": {
          "base_uri": "https://localhost:8080/"
        },
        "id": "jUmCKDnfMwQI",
        "outputId": "a4fdd49f-7662-4fed-87f6-9a447485b8c3"
      },
      "source": [
        "print(\"Machine Learning\" + \" Projects\")"
      ],
      "execution_count": null,
      "outputs": [
        {
          "output_type": "stream",
          "text": [
            "Machine Learning Projects\n"
          ],
          "name": "stdout"
        }
      ]
    },
    {
      "cell_type": "code",
      "metadata": {
        "colab": {
          "base_uri": "https://localhost:8080/"
        },
        "id": "cALbaqqGNBHZ",
        "outputId": "dd9ff49b-cc05-419d-8b5b-4fe0c2389de3"
      },
      "source": [
        "print(8)"
      ],
      "execution_count": null,
      "outputs": [
        {
          "output_type": "stream",
          "text": [
            "8\n"
          ],
          "name": "stdout"
        }
      ]
    },
    {
      "cell_type": "code",
      "metadata": {
        "colab": {
          "base_uri": "https://localhost:8080/"
        },
        "id": "VIIKdqyhNJct",
        "outputId": "363e9cc6-6a7a-4c14-ffde-3550abd9cb64"
      },
      "source": [
        "print(8+3)"
      ],
      "execution_count": null,
      "outputs": [
        {
          "output_type": "stream",
          "text": [
            "11\n"
          ],
          "name": "stdout"
        }
      ]
    },
    {
      "cell_type": "markdown",
      "metadata": {
        "id": "VoF-mwOrNd47"
      },
      "source": [
        "#Basic Data types:\n",
        "\n",
        "\n",
        "1.   int\n",
        "2.   float\n",
        "3.   str\n",
        "\n",
        "\n",
        "\n"
      ]
    },
    {
      "cell_type": "code",
      "metadata": {
        "colab": {
          "base_uri": "https://localhost:8080/"
        },
        "id": "c2C2CWT2NpAD",
        "outputId": "693ca04f-08c3-485f-dfe4-b81611cc7d12"
      },
      "source": [
        "type(8)"
      ],
      "execution_count": null,
      "outputs": [
        {
          "output_type": "execute_result",
          "data": {
            "text/plain": [
              "int"
            ]
          },
          "metadata": {
            "tags": []
          },
          "execution_count": 10
        }
      ]
    },
    {
      "cell_type": "code",
      "metadata": {
        "colab": {
          "base_uri": "https://localhost:8080/"
        },
        "id": "ruZzAZODN171",
        "outputId": "94a876c3-3bcd-4bc1-85a2-5b10be2d9646"
      },
      "source": [
        "type(5.3)"
      ],
      "execution_count": null,
      "outputs": [
        {
          "output_type": "execute_result",
          "data": {
            "text/plain": [
              "float"
            ]
          },
          "metadata": {
            "tags": []
          },
          "execution_count": 11
        }
      ]
    },
    {
      "cell_type": "code",
      "metadata": {
        "colab": {
          "base_uri": "https://localhost:8080/"
        },
        "id": "UM8_vIwfN4dn",
        "outputId": "a58c3967-088c-4b38-c280-dce8831cc6aa"
      },
      "source": [
        "type(\"english\")"
      ],
      "execution_count": null,
      "outputs": [
        {
          "output_type": "execute_result",
          "data": {
            "text/plain": [
              "str"
            ]
          },
          "metadata": {
            "tags": []
          },
          "execution_count": 12
        }
      ]
    },
    {
      "cell_type": "markdown",
      "metadata": {
        "id": "TF5JGYWwOCZ9"
      },
      "source": [
        "#Constants & Variables"
      ]
    },
    {
      "cell_type": "code",
      "metadata": {
        "colab": {
          "base_uri": "https://localhost:8080/"
        },
        "id": "ln8ikHIZN8mZ",
        "outputId": "79f115f1-fe00-4124-c487-7f24919d75e7"
      },
      "source": [
        "marvel_super_hero = \"Iron Man\"\n",
        "print(marvel_super_hero)"
      ],
      "execution_count": null,
      "outputs": [
        {
          "output_type": "stream",
          "text": [
            "Iron Man\n"
          ],
          "name": "stdout"
        }
      ]
    },
    {
      "cell_type": "code",
      "metadata": {
        "colab": {
          "base_uri": "https://localhost:8080/"
        },
        "id": "2MT4Km5gOecW",
        "outputId": "586a1876-c3a0-4fbb-c05b-2f7ac065fc9e"
      },
      "source": [
        "marvel_super_hero = \"Captain America\"\n",
        "print(marvel_super_hero)"
      ],
      "execution_count": null,
      "outputs": [
        {
          "output_type": "stream",
          "text": [
            "Captain America\n"
          ],
          "name": "stdout"
        }
      ]
    },
    {
      "cell_type": "code",
      "metadata": {
        "colab": {
          "base_uri": "https://localhost:8080/"
        },
        "id": "26ZG7J36O1Gm",
        "outputId": "4a1473ac-f3ec-4b72-fce0-584e3bd2c5d6"
      },
      "source": [
        "hero1 , hero2 , hero3 = \"Iron Man\" , \"Captain America\" , \"Bat Man\"\n",
        "print(hero1)\n",
        "print(hero2)\n",
        "print(hero3)"
      ],
      "execution_count": null,
      "outputs": [
        {
          "output_type": "stream",
          "text": [
            "Iron Man\n",
            "Captain America\n",
            "Bat Man\n"
          ],
          "name": "stdout"
        }
      ]
    },
    {
      "cell_type": "code",
      "metadata": {
        "colab": {
          "base_uri": "https://localhost:8080/"
        },
        "id": "Y9nqEMNPPM26",
        "outputId": "283f2b35-9761-4baa-fd9b-75842416d2a3"
      },
      "source": [
        "x = y = z = 23\n",
        "print(x)\n",
        "print(y)\n",
        "print(z)"
      ],
      "execution_count": null,
      "outputs": [
        {
          "output_type": "stream",
          "text": [
            "23\n",
            "23\n",
            "23\n"
          ],
          "name": "stdout"
        }
      ]
    },
    {
      "cell_type": "markdown",
      "metadata": {
        "id": "0Z9JChvaPpsm"
      },
      "source": [
        "# input Function"
      ]
    },
    {
      "cell_type": "code",
      "metadata": {
        "colab": {
          "base_uri": "https://localhost:8080/"
        },
        "id": "roZJU-IXPrvk",
        "outputId": "44179667-ddfc-4d42-bf5b-606397aea2ee"
      },
      "source": [
        "number_1 = int(input(\"Enter the first number : \"))\n",
        "number_2 = int(input(\"Enter the second number : \"))\n",
        "\n",
        "sum = number_1 + number_2\n",
        "print(sum)"
      ],
      "execution_count": null,
      "outputs": [
        {
          "output_type": "stream",
          "text": [
            "Enter the first number : 23\n",
            "Enter the second number : 23\n",
            "46\n"
          ],
          "name": "stdout"
        }
      ]
    },
    {
      "cell_type": "code",
      "metadata": {
        "colab": {
          "base_uri": "https://localhost:8080/"
        },
        "id": "HKcz9StaP-PF",
        "outputId": "001eeff8-e36b-4286-a12a-e26e54ab7ed9"
      },
      "source": [
        "# changing the data type in python:\n",
        "num = 5\n",
        "print(float(num))\n"
      ],
      "execution_count": null,
      "outputs": [
        {
          "output_type": "stream",
          "text": [
            "5.0\n"
          ],
          "name": "stdout"
        }
      ]
    }
  ]
}